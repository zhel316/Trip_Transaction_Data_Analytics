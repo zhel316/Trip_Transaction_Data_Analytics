{
 "cells": [
  {
   "cell_type": "code",
   "execution_count": 0,
   "metadata": {
    "application/vnd.databricks.v1+cell": {
     "cellMetadata": {},
     "inputWidgets": {},
     "nuid": "8800e9a3-c8ed-4148-a00e-898025536c27",
     "showTitle": false,
     "title": ""
    }
   },
   "outputs": [],
   "source": [
    "storageAccountName = \"tripdatastorage\"\n",
    "storageAccountAccessKey = \"wxy+JdKJuHz96leBRUvLyBKX8Dd+D/YdBtgANJewF3QHxq2qS5WbN2bZf28djj9n3LnbpWh5+P85+AStk+e7SA==\"\n",
    "blobContainerName = \"deltalake\"\n",
    "if not any(mount.mountPoint == '/mnt/Deltalake/' for mount in dbutils.fs.mounts()):\n",
    "    try:\n",
    "        dbutils.fs.mount(\n",
    "        source = \"wasbs://{}@{}.blob.core.windows.net\".format(blobContainerName, storageAccountName),\n",
    "        mount_point = \"/mnt/Deltalake\",\n",
    "        extra_configs = {'fs.azure.account.key.' + storageAccountName + '.blob.core.windows.net': storageAccountAccessKey}\n",
    "  )\n",
    "    except Exception as e:\n",
    "        print(e)\n",
    "        print(\"already mounted. Try to unmount first\")"
   ]
  }
 ],
 "metadata": {
  "application/vnd.databricks.v1+notebook": {
   "dashboards": [],
   "language": "python",
   "notebookMetadata": {
    "pythonIndentUnit": 4
   },
   "notebookName": "config",
   "widgets": {}
  }
 },
 "nbformat": 4,
 "nbformat_minor": 0
}
